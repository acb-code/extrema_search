{
 "cells": [
  {
   "cell_type": "code",
   "execution_count": 1,
   "metadata": {
    "collapsed": true
   },
   "outputs": [],
   "source": [
    "# this notebook summarizes the results across the 2-dimensional canonical problem case\n",
    "# Cases:\n",
    "#   1. Stochastic, Discontinuity Multimodal Localized Extrema\n",
    "#\n",
    "# Author: Alex Braafladt\n",
    "# Date created: 3/22/23\n",
    "#\n",
    "# References:\n",
    "# [1]"
   ]
  },
  {
   "cell_type": "code",
   "execution_count": 2,
   "outputs": [],
   "source": [
    "import matplotlib.pyplot as plt\n",
    "import seaborn as sns\n",
    "import numpy as np\n",
    "import torch\n",
    "import pandas as pd\n",
    "import pickle"
   ],
   "metadata": {
    "collapsed": false
   }
  },
  {
   "cell_type": "code",
   "execution_count": 3,
   "outputs": [
    {
     "data": {
      "text/plain": "[['MCS', 'NEI', 'TEAD', 'TuRBO', 'QMC'],\n [0.0, 0.0, 0.16666666666666666, 0.0, 0.0],\n [[0, 0], [0, 0], [0, 1], [0, 0], [0, 0]],\n [0, 0, 0, 0, 0],\n 2,\n [0.0, 0.0, 0.0, 0.0, 0.0],\n [[400, 400], [400, 400], [400, 400], [400, 400], [400, 400]]]"
     },
     "execution_count": 3,
     "metadata": {},
     "output_type": "execute_result"
    }
   ],
   "source": [
    "bench1 = torch.load('2d_bench_mme_metrics_v220230321221612.pt')\n",
    "bench1\n",
    "\n"
   ],
   "metadata": {
    "collapsed": false
   }
  },
  {
   "cell_type": "code",
   "execution_count": 4,
   "outputs": [
    {
     "data": {
      "text/plain": "[['PIONEER'],\n [0.16666666666666666],\n [[0, 0, 2, 0, 0, 1, 0, 1]],\n [0],\n 8,\n [0.0],\n [[401, 401, 401, 401, 401, 401, 401, 401]]]"
     },
     "execution_count": 4,
     "metadata": {},
     "output_type": "execute_result"
    }
   ],
   "source": [
    "pioneer2 = torch.load('2d_pioneer_mme_metrics_v220230321221603.pt')\n",
    "pioneer2"
   ],
   "metadata": {
    "collapsed": false
   }
  },
  {
   "cell_type": "code",
   "execution_count": null,
   "outputs": [],
   "source": [],
   "metadata": {
    "collapsed": false
   }
  }
 ],
 "metadata": {
  "kernelspec": {
   "display_name": "Python 3",
   "language": "python",
   "name": "python3"
  },
  "language_info": {
   "codemirror_mode": {
    "name": "ipython",
    "version": 2
   },
   "file_extension": ".py",
   "mimetype": "text/x-python",
   "name": "python",
   "nbconvert_exporter": "python",
   "pygments_lexer": "ipython2",
   "version": "2.7.6"
  }
 },
 "nbformat": 4,
 "nbformat_minor": 0
}
