{
 "cells": [
  {
   "cell_type": "code",
   "execution_count": null,
   "metadata": {
    "collapsed": true
   },
   "outputs": [],
   "source": [
    "# notebook for first canonical problem for multimodal optimization looking for localized extreme\n",
    "# events with agent-based military simulation\n",
    "# Experiment 2.2 - Stochastic, jump discontinuity multimodal localized extrema test problem\n",
    "# Part 1 - benchmark approaches (MCS, QMC, NEI, TEAD, TuRBO)\n",
    "#\n",
    "# Author: Alex Braafladt\n",
    "# Initial creation: 3/10/23\n",
    "#\n",
    "# Goal: Benchmark state-of-the-art Bayesian Optimization approaches (and QMC/MCS) on a multimodal\n",
    "#       optimization test function focused on localized extrema\n",
    "#\n",
    "# Notes:\n",
    "# -Using the BoTorch framework [1] and NEI from [4]\n",
    "# -TEAD technique from [2]\n",
    "# -TuRBO technique from [3]\n",
    "#\n",
    "# References:\n",
    "# [1] M. Balandat et al., “BOTORCH: A framework for efficient Monte-Carlo Bayesian optimization,”\n",
    "#     Adv. Neural Inf. Process. Syst., vol. 2020-Decem, no. MC, 2020.\n",
    "# [2] S. Mo et al., “A Taylor Expansion-Based Adaptive Design Strategy for Global Surrogate\n",
    "#     Modeling With Applications in Groundwater Modeling,” Water Resour. Res., vol. 53, no.\n",
    "#     12, pp. 10802–10823, 2017, doi: 10.1002/2017WR021622.\n",
    "# [3] D. Eriksson, M. Pearce, J. R. Gardner, R. Turner, and M. Poloczek, “Scalable global\n",
    "#     optimization via local Bayesian optimization,” Adv. Neural Inf. Process. Syst., vol.\n",
    "#     32, no. NeurIPS, 2019.\n",
    "# [4] B. Letham, B. Karrer, G. Ottoni, and E. Bakshy, “Constrained Bayesian optimization with noisy\n",
    "#     experiments,” Bayesian Anal., vol. 14, no. 2, pp. 495–519, 2019, doi: 10.1214/18-BA1110."
   ]
  },
  {
   "cell_type": "code",
   "execution_count": null,
   "outputs": [],
   "source": [
    "# imports\n",
    "import torch\n",
    "import matplotlib.pyplot as plt\n",
    "import seaborn as sns\n",
    "from extremasearch.globalmm.globalsearch import MultimodalExtremaSearch\n",
    "from botorch import fit_gpytorch_mll\n",
    "from botorch.models.gp_regression import SingleTaskGP\n",
    "from gpytorch.mlls import ExactMarginalLogLikelihood\n",
    "import numpy as np\n",
    "import networkx as nx\n",
    "from botorch.models.transforms import Normalize, Standardize\n",
    "\n",
    "# setup\n",
    "dtype = torch.double\n",
    "device = torch.device(\"cuda\" if torch.cuda.is_available() else \"cpu\")\n",
    "import warnings\n",
    "from botorch.exceptions import BadInitialCandidatesWarning\n",
    "warnings.filterwarnings('ignore', category=BadInitialCandidatesWarning)\n",
    "warnings.filterwarnings('ignore', category=RuntimeWarning)"
   ],
   "metadata": {
    "collapsed": false
   }
  },
  {
   "cell_type": "code",
   "execution_count": null,
   "outputs": [],
   "source": [
    "# setup file i/o\n",
    "import os as os\n",
    "import datetime as dt\n",
    "# get current working directory\n",
    "wrkdir = os.getcwd()\n",
    "print('Current working directory: '+wrkdir)\n",
    "# set up a data save directory for all future runs\n",
    "newoutputdir = wrkdir+'\\output'\n",
    "if not os.path.exists(newoutputdir):\n",
    "    os.makedirs(newoutputdir)\n",
    "# set up a new directory to store files for the current run - updates at each new full run of notebook\n",
    "curDatetime = dt.datetime.now()\n",
    "datasavedir = newoutputdir + r'\\\\' + 'exp2.2_mme_nonbalanced_benchmark' + str(curDatetime.strftime('%Y%m%d%H%M%S'))\n",
    "if not os.path.exists(datasavedir):\n",
    "    os.makedirs(datasavedir)\n",
    "print('Data save directory: '+datasavedir)"
   ],
   "metadata": {
    "collapsed": false
   }
  },
  {
   "cell_type": "code",
   "execution_count": null,
   "outputs": [],
   "source": [
    "# canonical problem\n",
    "def mme_noise_jump_1d_mean(x):\n",
    "    y = torch.zeros(x.shape)\n",
    "    y += 0.66*(-1.*x + 0.1*torch.sin(30.*x) + torch.exp(-(100.*(x-0.65))**2.)) * (x >= 0.6)\n",
    "    y += 0.66*(-1.*x + 0.1*torch.sin(30.*x) - 0.25 + torch.exp(-(100.*(x-0.65))**2.)) * (x < 0.6) * (x >= 0.2)\n",
    "    y += 0.66*(-1.*x + 0.1*torch.sin(30.*x) + 0.2 + torch.exp(-(100.*(x-0.65))**2.)) * (x < 0.2)\n",
    "    y += 0.7 * ( torch.exp(-(100.*(x-0.35))**2.) )\n",
    "    y += 0.4 * ( torch.exp(-(100.*(x-0.92))**2.) )\n",
    "    y += 0.9\n",
    "    return y\n",
    "\n",
    "\n",
    "sigma_max = 0.12\n",
    "sigma_min = 0.02\n",
    "\n",
    "\n",
    "def mme_noise_jump_1d(x):\n",
    "    # mean\n",
    "    y = mme_noise_jump_1d_mean(x)\n",
    "    # noise\n",
    "    noise = torch.zeros(x.shape)\n",
    "    noise += (torch.randn(x.shape) * sigma_max) * (x >= 0.61) * (x < 0.71)\n",
    "    noise += (torch.randn(x.shape) * 0.5*sigma_max) * (x >= 0.31) * (x < 0.41)\n",
    "    noise += (torch.randn(x.shape) * 0.8*sigma_max) * (x >= 0.90) * (x < 0.94)\n",
    "    noise += (torch.randn(x.shape) * (sigma_max - sigma_min) / (1. + torch.exp(-10.*(x-0.2))) )* (x < 0.61)\n",
    "    noise += (torch.randn(x.shape) * (sigma_max - sigma_min) / (1. + torch.exp(10.*(x-0.75))) ) * (x >= 0.71)\n",
    "    # combined\n",
    "    y_out = y + noise\n",
    "    # any_neg = y_out < 0\n",
    "    # if any_neg:\n",
    "    #     y_out = torch.tensor(0.0)\n",
    "    return y_out\n",
    "\n",
    "\n",
    "x1 = torch.linspace(0,1.0,200)\n",
    "y1 = mme_noise_jump_1d(x1)\n",
    "fig, ax = plt.subplots(1, 1, figsize=(8,6))\n",
    "sns.lineplot(x=x1, y=y1, ax=ax, color='r')\n",
    "plt.savefig(datasavedir + '/'+'full_test_problem_one_realization'+'.png')"
   ],
   "metadata": {
    "collapsed": false
   }
  },
  {
   "cell_type": "code",
   "execution_count": null,
   "outputs": [],
   "source": [
    "# plot noise bounds as 99% confidence interval\n",
    "# generate realizations of the function\n",
    "num_reals = 500\n",
    "num_x = 200\n",
    "x1 = torch.linspace(0,1.0,num_x)\n",
    "y_reps = torch.DoubleTensor(num_x, num_reals)\n",
    "y_deter = mme_noise_jump_1d_mean(x1)\n",
    "for i in range(num_reals):\n",
    "    y_reps[:,i] = mme_noise_jump_1d(x1)\n",
    "\n",
    "fig, ax = plt.subplots(1, 1, figsize=(8,6))\n",
    "sns.lineplot(x=x1, y=y_deter, ax=ax)\n",
    "upper_99 = torch.quantile(y_reps, 0.995, dim=1)\n",
    "lower_01 = torch.quantile(y_reps, 0.005, dim=1)\n",
    "ax.fill_between(x1, lower_01, upper_99, color='b', alpha=0.3, label=r'99% quantiles')\n",
    "plt.savefig(datasavedir + '/'+'full_test_problem_bounds'+'.png')"
   ],
   "metadata": {
    "collapsed": false
   }
  },
  {
   "cell_type": "code",
   "execution_count": null,
   "outputs": [],
   "source": [
    "def outcome_objective(x):\n",
    "    \"\"\"wrapper for the outcome objective function\"\"\"\n",
    "    # return mme_torch(X).type_as(X)\n",
    "    return mme_noise_jump_1d(x).type_as(x)"
   ],
   "metadata": {
    "collapsed": false
   }
  },
  {
   "cell_type": "code",
   "execution_count": null,
   "outputs": [],
   "source": [],
   "metadata": {
    "collapsed": false
   }
  },
  {
   "cell_type": "code",
   "execution_count": null,
   "outputs": [],
   "source": [],
   "metadata": {
    "collapsed": false
   }
  },
  {
   "cell_type": "code",
   "execution_count": null,
   "outputs": [],
   "source": [],
   "metadata": {
    "collapsed": false
   }
  },
  {
   "cell_type": "code",
   "execution_count": null,
   "outputs": [],
   "source": [],
   "metadata": {
    "collapsed": false
   }
  },
  {
   "cell_type": "code",
   "execution_count": null,
   "outputs": [],
   "source": [],
   "metadata": {
    "collapsed": false
   }
  },
  {
   "cell_type": "code",
   "execution_count": null,
   "outputs": [],
   "source": [],
   "metadata": {
    "collapsed": false
   }
  },
  {
   "cell_type": "code",
   "execution_count": null,
   "outputs": [],
   "source": [],
   "metadata": {
    "collapsed": false
   }
  }
 ],
 "metadata": {
  "kernelspec": {
   "display_name": "Python 3",
   "language": "python",
   "name": "python3"
  },
  "language_info": {
   "codemirror_mode": {
    "name": "ipython",
    "version": 2
   },
   "file_extension": ".py",
   "mimetype": "text/x-python",
   "name": "python",
   "nbconvert_exporter": "python",
   "pygments_lexer": "ipython2",
   "version": "2.7.6"
  }
 },
 "nbformat": 4,
 "nbformat_minor": 0
}
