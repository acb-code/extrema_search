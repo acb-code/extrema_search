{
 "cells": [
  {
   "cell_type": "code",
   "execution_count": 1,
   "metadata": {
    "collapsed": true
   },
   "outputs": [],
   "source": [
    "# testing objects for n-dim tead"
   ]
  },
  {
   "cell_type": "code",
   "execution_count": 2,
   "outputs": [],
   "source": [
    "import torch\n",
    "from botorch.models.gp_regression import ExactGP\n",
    "from scipy.stats.qmc import LatinHypercube\n",
    "from sklearn.neighbors import NearestNeighbors\n",
    "import numpy as np"
   ],
   "metadata": {
    "collapsed": false
   }
  },
  {
   "cell_type": "code",
   "execution_count": 3,
   "outputs": [],
   "source": [
    "def nfinite_diff(model):\n",
    "    \"\"\"get approx gradient at model training points\"\"\"\n",
    "    # assumes 1d input... see implementation in [3] for update to n-D\n",
    "    h = 1e-4\n",
    "    x = model.train_inputs[0].squeeze()\n",
    "    m = len(x)\n",
    "    delta_s = torch.zeros(m)\n",
    "    for i in range(0, m):\n",
    "        x_lo = x[i] - h\n",
    "        if x_lo < 0.0:\n",
    "            x_lo = torch.DoubleTensor([0.0])\n",
    "        x_hi = x[i] + h\n",
    "        if x_hi > 1.0:\n",
    "            x_hi = torch.DoubleTensor([1.0])\n",
    "        y_lo = model(x_lo.unsqueeze(-1)).mean\n",
    "        y_hi = model(x_hi.unsqueeze(-1)).mean\n",
    "        delta_s[i] = (y_hi - y_lo)/(2*h)\n",
    "    return delta_s"
   ],
   "metadata": {
    "collapsed": false
   }
  },
  {
   "cell_type": "code",
   "execution_count": 5,
   "outputs": [],
   "source": [
    "dtype = torch.double\n",
    "from botorch.models import SingleTaskGP\n",
    "from gpytorch.mlls import ExactMarginalLogLikelihood\n",
    "from botorch import fit_gpytorch_mll\n",
    "\n",
    "train_X = torch.rand(20, 2, dtype=dtype)\n",
    "train_Y = torch.sin(train_X).sum(dim=1, keepdim=True)\n",
    "model_example = SingleTaskGP(train_X, train_Y)\n",
    "mll_example = ExactMarginalLogLikelihood(model_example.likelihood, model_example)\n",
    "fitting = fit_gpytorch_mll(mll_example)"
   ],
   "metadata": {
    "collapsed": false
   }
  },
  {
   "cell_type": "code",
   "execution_count": 6,
   "outputs": [
    {
     "ename": "RuntimeError",
     "evalue": "Boolean value of Tensor with more than one value is ambiguous",
     "output_type": "error",
     "traceback": [
      "\u001B[1;31m---------------------------------------------------------------------------\u001B[0m",
      "\u001B[1;31mRuntimeError\u001B[0m                              Traceback (most recent call last)",
      "Cell \u001B[1;32mIn[6], line 1\u001B[0m\n\u001B[1;32m----> 1\u001B[0m temp \u001B[38;5;241m=\u001B[39m \u001B[43mnfinite_diff\u001B[49m\u001B[43m(\u001B[49m\u001B[43mmodel_example\u001B[49m\u001B[43m)\u001B[49m\n",
      "Cell \u001B[1;32mIn[3], line 10\u001B[0m, in \u001B[0;36mnfinite_diff\u001B[1;34m(model)\u001B[0m\n\u001B[0;32m      8\u001B[0m \u001B[38;5;28;01mfor\u001B[39;00m i \u001B[38;5;129;01min\u001B[39;00m \u001B[38;5;28mrange\u001B[39m(\u001B[38;5;241m0\u001B[39m, m):\n\u001B[0;32m      9\u001B[0m     x_lo \u001B[38;5;241m=\u001B[39m x[i] \u001B[38;5;241m-\u001B[39m h\n\u001B[1;32m---> 10\u001B[0m     \u001B[38;5;28;01mif\u001B[39;00m \u001B[43mx_lo\u001B[49m\u001B[43m \u001B[49m\u001B[38;5;241;43m<\u001B[39;49m\u001B[43m \u001B[49m\u001B[38;5;241;43m0.0\u001B[39;49m:\n\u001B[0;32m     11\u001B[0m         x_lo \u001B[38;5;241m=\u001B[39m torch\u001B[38;5;241m.\u001B[39mDoubleTensor([\u001B[38;5;241m0.0\u001B[39m])\n\u001B[0;32m     12\u001B[0m     x_hi \u001B[38;5;241m=\u001B[39m x[i] \u001B[38;5;241m+\u001B[39m h\n",
      "\u001B[1;31mRuntimeError\u001B[0m: Boolean value of Tensor with more than one value is ambiguous"
     ]
    }
   ],
   "source": [
    "temp = nfinite_diff(model_example)"
   ],
   "metadata": {
    "collapsed": false
   }
  },
  {
   "cell_type": "code",
   "execution_count": null,
   "outputs": [],
   "source": [],
   "metadata": {
    "collapsed": false
   }
  }
 ],
 "metadata": {
  "kernelspec": {
   "display_name": "Python 3",
   "language": "python",
   "name": "python3"
  },
  "language_info": {
   "codemirror_mode": {
    "name": "ipython",
    "version": 2
   },
   "file_extension": ".py",
   "mimetype": "text/x-python",
   "name": "python",
   "nbconvert_exporter": "python",
   "pygments_lexer": "ipython2",
   "version": "2.7.6"
  }
 },
 "nbformat": 4,
 "nbformat_minor": 0
}
