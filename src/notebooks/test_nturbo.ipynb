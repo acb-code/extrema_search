{
 "cells": [
  {
   "cell_type": "code",
   "execution_count": 1,
   "metadata": {
    "collapsed": true
   },
   "outputs": [],
   "source": [
    "# testing implementation of n-dimensional inputs for turbo acquisition function"
   ]
  },
  {
   "cell_type": "code",
   "execution_count": 2,
   "outputs": [],
   "source": [
    "# imports\n",
    "from dataclasses import dataclass\n",
    "from typing import Any\n",
    "import torch\n",
    "import math\n",
    "from botorch.generation import MaxPosteriorSampling\n",
    "from botorch.models.gp_regression import ExactGP\n",
    "from torch.quasirandom import SobolEngine\n",
    "from botorch.acquisition.monte_carlo import qExpectedImprovement\n",
    "from botorch.optim import optimize_acqf"
   ],
   "metadata": {
    "collapsed": false
   }
  },
  {
   "cell_type": "code",
   "execution_count": 3,
   "outputs": [],
   "source": [
    "# setup\n",
    "dtype = torch.double\n",
    "device = torch.device(\"cuda\" if torch.cuda.is_available() else \"cpu\")\n",
    "import warnings\n",
    "from botorch.exceptions import BadInitialCandidatesWarning\n",
    "warnings.filterwarnings('ignore', category=BadInitialCandidatesWarning)\n",
    "warnings.filterwarnings('ignore', category=RuntimeWarning)"
   ],
   "metadata": {
    "collapsed": false
   }
  },
  {
   "cell_type": "code",
   "execution_count": 16,
   "outputs": [],
   "source": [
    "# objects\n",
    "@dataclass\n",
    "class NewTurboState:\n",
    "    \"\"\"Class to maintain the trust region for TuRBO\"\"\"\n",
    "    dim: int\n",
    "    batch_size: int\n",
    "    center: torch.Tensor\n",
    "    lb: torch.Tensor\n",
    "    ub: torch.Tensor\n",
    "    train_x: Any = None\n",
    "    train_y: Any = None\n",
    "    length: float = 0.3\n",
    "    length_min: float = 0.25 ** 3\n",
    "    length_max: float = 0.5  # modifying for [0,1] interval from 1.6 to 0.5\n",
    "    failure_counter: int = 0\n",
    "    failure_tolerance: int = float(\"nan\")  # post initialized\n",
    "    success_counter: int = 0\n",
    "    success_tolerance: int = 4  # original paper uses 3\n",
    "    best_value: float = -float(\"inf\")\n",
    "    restart_triggered: bool = False\n",
    "    domain_constraints: torch.Tensor = None\n",
    "\n",
    "    def __post_init__(self):\n",
    "        self.failure_tolerance = math.ceil(\n",
    "            max([4.0 / self.batch_size, float(self.dim) / self.batch_size]))\n",
    "\n",
    "    def get_training_samples_in_region(self):\n",
    "        \"\"\"query the training data and get the samples in the trust region - note this is for 1-d case\"\"\"\n",
    "        # get the updated geometry of the trust region\n",
    "        self.center = self.train_x[self.train_y.argmax(), :].clone()\n",
    "        self.lb = torch.clamp(self.center - self.length / 2.0, 0.0, 1.0)\n",
    "        self.ub = torch.clamp(self.center + self.length / 2.0, 0.0, 1.0)\n",
    "        # get the indices of the evaluated data points in the trust region\n",
    "        idx_below_ub = torch.where(self.train_x <= self.ub, True, False)\n",
    "        idx_above_lb = torch.where(self.train_x >= self.lb, True, False)\n",
    "        idx_in_tr = idx_below_ub & idx_above_lb\n",
    "        # get the training points to use that are in the trust region\n",
    "        train_x_tr = self.train_x[idx_in_tr].unsqueeze(-1)\n",
    "        train_y_tr = self.train_y[idx_in_tr].unsqueeze(-1)\n",
    "        # return the training points to use\n",
    "        if len(train_x_tr) < 1:\n",
    "            print(\"\\nNot enough points in tr, using global data to fit model\\n\")\n",
    "            return self.train_x.unsqueeze(-1), self.train_y.unsqueeze(-1)\n",
    "            # depending on which {x, y} data are in current state, may need to revisit this\n",
    "        else:\n",
    "            return train_x_tr, train_y_tr\n",
    "\n",
    "\n",
    "def new_update_state(state: NewTurboState, x_train, y_train, y_next):\n",
    "    \"\"\"Update the state of the trust region each iteration\"\"\"\n",
    "    # check if the last iteration was successful and update attributes\n",
    "    if torch.max(y_next) > state.best_value + 1e-3 * math.fabs(state.best_value):\n",
    "        state.success_counter += 1\n",
    "        state.failure_counter = 0\n",
    "    else:\n",
    "        state.success_counter = 0\n",
    "        state.failure_counter += 1\n",
    "    # modify trust region geometry based on success or failure of last step\n",
    "    if state.success_counter == state.success_tolerance:  # expand trust region\n",
    "        state.length = min(2.0 * state.length, state.length_max)\n",
    "        state.success_counter = 0\n",
    "    elif state.failure_counter == state.failure_tolerance:  # shrink the trust region\n",
    "        state.length /= 2.0\n",
    "        state.failure_counter = 0\n",
    "    # update the best value seen\n",
    "    state.best_value = max(state.best_value, torch.max(y_next).item())\n",
    "    # check if the trust region needs to restart\n",
    "    if state.length < state.length_min:\n",
    "        state.restart_triggered = True\n",
    "        state.length = 0.5  # assumes x in [0, 1]\n",
    "        print(\"\\nTuRBO restart triggered\")\n",
    "    # update training data set\n",
    "    state.train_x = x_train\n",
    "    state.train_y = y_train\n",
    "    return state\n",
    "\n",
    "\n",
    "def turbo_region_bounds(model: ExactGP, x_center, length, dim):\n",
    "    \"\"\"Get the bounds for the turbo trust region\"\"\"\n",
    "    # scale the trust region to be proportional to the length scales\n",
    "    weights = model.covar_module.base_kernel.lengthscale.squeeze().detach()\n",
    "    weights = weights / weights.mean()\n",
    "    if dim > 1:\n",
    "        weights = weights / torch.prod(weights.pow(1.0 / len(weights)))\n",
    "    tr_lb = torch.clamp(x_center - weights * length / 2.0, 0.0, 1.0)\n",
    "    tr_ub = torch.clamp(x_center + weights * length / 2.0, 0.0, 1.0)\n",
    "    return tr_lb, tr_ub\n",
    "\n",
    "\n",
    "def turbo_bounds_no_scaling(x_center, length, dim):\n",
    "    \"\"\"get the bounds of the turbo trust region without scaling them by the lengthscales,\n",
    "    this means that the region is a hyper-square, all sides the same length\"\"\"\n",
    "    tr_lb = torch.clamp(x_center - length / 2.0, 0.0, 1.0)\n",
    "    tr_ub = torch.clamp(x_center + length / 2.0, 0.0, 1.0)\n",
    "    return tr_lb, tr_ub\n",
    "\n",
    "\n",
    "def turbo_thompson_sampling(state: NewTurboState, n_candidates, tr_lb, tr_ub, x_center, model, batch_size):\n",
    "    \"\"\"Convert candidates and trust region geometry to next sample point\"\"\"\n",
    "    # thompson sampling\n",
    "    dim = state.train_x.shape[-1]\n",
    "    sobol = SobolEngine(dim, scramble=True)\n",
    "    pert = sobol.draw(n_candidates).to(dtype=dtype, device=device)\n",
    "    pert = tr_lb + (tr_ub - tr_lb) * pert\n",
    "    # create perturbation mask\n",
    "    prob_perturb = min(20.0 / dim, 1.0)\n",
    "    mask = (\n",
    "            torch.rand(n_candidates, dim, dtype=dtype, device=device)\n",
    "            <= prob_perturb\n",
    "    )\n",
    "    ind = torch.where(mask.sum(dim=1) == 0)[0]\n",
    "    if dim == 1:\n",
    "        mask[ind, torch.randint(0, 1, size=(len(ind),), device=device)] = 1\n",
    "    else:\n",
    "        mask[ind, torch.randint(0, dim - 1, size=(len(ind),), device=device)] = 1\n",
    "    # create candidate points from the perturbations and the mask\n",
    "    x_cand = x_center.expand(n_candidates, dim).clone()\n",
    "    x_cand[mask] = pert[mask]\n",
    "\n",
    "    # sample the candidate points\n",
    "    thompson_sampling = MaxPosteriorSampling(model=model, replacement=False)\n",
    "    with torch.no_grad():\n",
    "        return thompson_sampling(x_cand, num_samples=batch_size)\n",
    "\n",
    "\n",
    "def generate_batch(state: NewTurboState,  # trust region state\n",
    "                   model: ExactGP,  # GP model\n",
    "                   dim,  # number of input dimensions\n",
    "                   x,  # evaluated points on [0,1] for each dimension\n",
    "                   y,  # evaluated function values corresponding to x\n",
    "                   batch_size,\n",
    "                   n_candidates=None,\n",
    "                   num_restarts=10,\n",
    "                   raw_samples=512,\n",
    "                   acqf='ts',  # 'ei' or 'ts'\n",
    "                   ):\n",
    "    \"\"\"Acquisition function for TuRBO, wraps Thompson sampling or Expected Improvement constrained to\n",
    "    trust region boundaries\"\"\"\n",
    "    assert acqf in (\"ts\", \"ei\")\n",
    "    assert x.min() >= 0.0 and x.max() <= 1.0 and torch.all(torch.isfinite(y))\n",
    "    if n_candidates is None:\n",
    "        n_candidates = min(5000, max(2000, 200 * x.shape[-1]))\n",
    "\n",
    "    # # scale the trust region to be proportional to the length scales\n",
    "    x_center = x[y.argmax(), :].clone()\n",
    "    tr_lb, tr_ub = turbo_region_bounds(model, x_center, state.length, dim=dim)\n",
    "\n",
    "    if acqf == 'ts':\n",
    "        x_next = turbo_thompson_sampling(state, n_candidates, tr_lb, tr_ub, x_center, model, batch_size)\n",
    "\n",
    "    elif acqf == 'ei':\n",
    "        ei = qExpectedImprovement(model, y.max(), maximize=True)\n",
    "        x_next, acq_value = optimize_acqf(\n",
    "            ei,\n",
    "            bounds=torch.stack([tr_lb, tr_ub]),\n",
    "            q=batch_size,\n",
    "            num_restarts=num_restarts,\n",
    "            raw_samples=raw_samples,\n",
    "        )\n",
    "\n",
    "    return x_next"
   ],
   "metadata": {
    "collapsed": false
   }
  },
  {
   "cell_type": "code",
   "execution_count": 5,
   "outputs": [],
   "source": [
    "# n-d test problem\n",
    "from botorch.models import SingleTaskGP\n",
    "from gpytorch.mlls import ExactMarginalLogLikelihood\n",
    "from botorch import fit_gpytorch_mll\n",
    "\n",
    "train_X = torch.rand(20, 2, dtype=dtype)\n",
    "train_Y = torch.sin(train_X).sum(dim=1, keepdim=True)\n",
    "model_example = SingleTaskGP(train_X, train_Y)\n",
    "mll_example = ExactMarginalLogLikelihood(model_example.likelihood, model_example)\n",
    "fitting = fit_gpytorch_mll(mll_example)"
   ],
   "metadata": {
    "collapsed": false
   }
  },
  {
   "cell_type": "code",
   "execution_count": 9,
   "outputs": [
    {
     "data": {
      "text/plain": "tensor(15)"
     },
     "execution_count": 9,
     "metadata": {},
     "output_type": "execute_result"
    }
   ],
   "source": [
    "train_Y.argmax()"
   ],
   "metadata": {
    "collapsed": false
   }
  },
  {
   "cell_type": "code",
   "execution_count": 20,
   "outputs": [
    {
     "name": "stdout",
     "output_type": "stream",
     "text": [
      "tensor([0.7134, 0.7153], dtype=torch.float64)\n",
      "tensor([0.9666, 0.9621], dtype=torch.float64)\n"
     ]
    }
   ],
   "source": [
    "test_lb, test_ub = turbo_region_bounds(model_example, train_X[5, :].clone(), 0.25, 2)\n",
    "print(test_lb)\n",
    "print(test_ub)"
   ],
   "metadata": {
    "collapsed": false
   }
  },
  {
   "cell_type": "code",
   "execution_count": 14,
   "outputs": [
    {
     "data": {
      "text/plain": "tensor([1.3511, 1.3173], dtype=torch.float64)"
     },
     "execution_count": 14,
     "metadata": {},
     "output_type": "execute_result"
    }
   ],
   "source": [
    "model_example.covar_module.base_kernel.lengthscale.squeeze().detach()"
   ],
   "metadata": {
    "collapsed": false
   }
  },
  {
   "cell_type": "code",
   "execution_count": 19,
   "outputs": [
    {
     "name": "stdout",
     "output_type": "stream",
     "text": [
      "tensor([0.7150, 0.7137], dtype=torch.float64)\n",
      "tensor([0.9650, 0.9637], dtype=torch.float64)\n"
     ]
    }
   ],
   "source": [
    "test_lb, test_ub = turbo_bounds_no_scaling(train_X[5, :].clone(), 0.25, 2)\n",
    "print(test_lb)\n",
    "print(test_ub)"
   ],
   "metadata": {
    "collapsed": false
   }
  },
  {
   "cell_type": "code",
   "execution_count": null,
   "outputs": [],
   "source": [],
   "metadata": {
    "collapsed": false
   }
  }
 ],
 "metadata": {
  "kernelspec": {
   "display_name": "Python 3",
   "language": "python",
   "name": "python3"
  },
  "language_info": {
   "codemirror_mode": {
    "name": "ipython",
    "version": 2
   },
   "file_extension": ".py",
   "mimetype": "text/x-python",
   "name": "python",
   "nbconvert_exporter": "python",
   "pygments_lexer": "ipython2",
   "version": "2.7.6"
  }
 },
 "nbformat": 4,
 "nbformat_minor": 0
}
