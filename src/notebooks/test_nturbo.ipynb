{
 "cells": [
  {
   "cell_type": "code",
   "execution_count": 1,
   "metadata": {
    "collapsed": true
   },
   "outputs": [],
   "source": [
    "# testing implementation of n-dimensional inputs for turbo acquisition function"
   ]
  },
  {
   "cell_type": "code",
   "execution_count": 2,
   "outputs": [],
   "source": [
    "# imports\n",
    "from dataclasses import dataclass\n",
    "from typing import Any\n",
    "import torch\n",
    "import math\n",
    "from botorch.generation import MaxPosteriorSampling\n",
    "from botorch.models.gp_regression import ExactGP\n",
    "from torch.quasirandom import SobolEngine\n",
    "from botorch.acquisition.monte_carlo import qExpectedImprovement\n",
    "from botorch.optim import optimize_acqf"
   ],
   "metadata": {
    "collapsed": false
   }
  },
  {
   "cell_type": "code",
   "execution_count": 3,
   "outputs": [],
   "source": [
    "# setup\n",
    "dtype = torch.double\n",
    "device = torch.device(\"cuda\" if torch.cuda.is_available() else \"cpu\")\n",
    "import warnings\n",
    "from botorch.exceptions import BadInitialCandidatesWarning\n",
    "warnings.filterwarnings('ignore', category=BadInitialCandidatesWarning)\n",
    "warnings.filterwarnings('ignore', category=RuntimeWarning)"
   ],
   "metadata": {
    "collapsed": false
   }
  },
  {
   "cell_type": "code",
   "execution_count": 64,
   "outputs": [],
   "source": [
    "# objects\n",
    "\n",
    "\n",
    "def turbo_bounds_no_scaling(x_center, length):\n",
    "    \"\"\"get the bounds of the turbo trust region without scaling them by the lengthscales,\n",
    "    this means that the region is a hyper-square, all sides the same length\"\"\"\n",
    "    tr_lb = torch.clamp(x_center - length / 2.0, 0.0, 1.0)\n",
    "    tr_ub = torch.clamp(x_center + length / 2.0, 0.0, 1.0)\n",
    "    return tr_lb, tr_ub\n",
    "\n",
    "\n",
    "@dataclass\n",
    "class NewTurboState:\n",
    "    \"\"\"Class to maintain the trust region for TuRBO\"\"\"\n",
    "    dim: int\n",
    "    batch_size: int\n",
    "    center: torch.Tensor\n",
    "    lb: torch.Tensor = None\n",
    "    ub: torch.Tensor = None\n",
    "    train_x: Any = None\n",
    "    train_y: Any = None\n",
    "    length: float = 0.3\n",
    "    length_min: float = 0.25 ** 3\n",
    "    length_max: float = 0.5  # modifying for [0,1] interval from 1.6 to 0.5\n",
    "    failure_counter: int = 0\n",
    "    failure_tolerance: int = float(\"nan\")  # post initialized\n",
    "    success_counter: int = 0\n",
    "    success_tolerance: int = 4  # original paper uses 3\n",
    "    best_value: float = -float(\"inf\")\n",
    "    restart_triggered: bool = False\n",
    "    domain_constraints: torch.Tensor = None\n",
    "\n",
    "    def __post_init__(self):\n",
    "        self.failure_tolerance = math.ceil(\n",
    "            max([4.0 / self.batch_size, float(self.dim) / self.batch_size]))\n",
    "\n",
    "    def get_training_samples_in_region(self):\n",
    "        \"\"\"query the training data and get the samples in the trust region - note this is for 1-d case\"\"\"\n",
    "        # get the updated geometry of the trust region\n",
    "        self.center = self.train_x[self.train_y.argmax(), :].clone()\n",
    "        # self.lb = torch.clamp(self.center - self.length / 2.0, 0.0, 1.0)\n",
    "        # self.ub = torch.clamp(self.center + self.length / 2.0, 0.0, 1.0)\n",
    "        self.lb, self.ub = turbo_bounds_no_scaling(self.center, self.length)\n",
    "        # get the indices of the evaluated data points in the trust region\n",
    "        idx_below_ub = torch.where(self.train_x <= self.ub, True, False)\n",
    "        idx_above_lb = torch.where(self.train_x >= self.lb, True, False)\n",
    "        idx_in_tr = idx_below_ub & idx_above_lb\n",
    "        # get the training points to use that are in the trust region\n",
    "        # train_x_tr = self.train_x[idx_in_tr].unsqueeze(-1)\n",
    "        # train_y_tr = self.train_y[idx_in_tr].unsqueeze(-1)\n",
    "        train_x_tr = train_X[torch.all(idx_in_tr, dim=1), :]\n",
    "        train_y_tr = train_Y[torch.all(idx_in_tr, dim=1)]\n",
    "        # return the training points to use\n",
    "        if train_x_tr.shape[0] < 1:\n",
    "            print(\"\\nNot enough points in tr, using global data to fit model\\n\")\n",
    "            return self.train_x, self.train_y\n",
    "            # depending on which {x, y} data are in current state, may need to revisit this\n",
    "        else:\n",
    "            return train_x_tr, train_y_tr\n",
    "\n",
    "\n",
    "def new_update_state(state: NewTurboState, x_train, y_train, y_next):\n",
    "    \"\"\"Update the state of the trust region each iteration\"\"\"\n",
    "    # check if the last iteration was successful and update attributes\n",
    "    if torch.max(y_next) > state.best_value + 1e-3 * math.fabs(state.best_value):\n",
    "        state.success_counter += 1\n",
    "        state.failure_counter = 0\n",
    "    else:\n",
    "        state.success_counter = 0\n",
    "        state.failure_counter += 1\n",
    "    # modify trust region geometry based on success or failure of last step\n",
    "    if state.success_counter == state.success_tolerance:  # expand trust region\n",
    "        state.length = min(2.0 * state.length, state.length_max)\n",
    "        state.success_counter = 0\n",
    "    elif state.failure_counter == state.failure_tolerance:  # shrink the trust region\n",
    "        state.length /= 2.0\n",
    "        state.failure_counter = 0\n",
    "    # update the best value seen\n",
    "    state.best_value = max(state.best_value, torch.max(y_next).item())\n",
    "    # check if the trust region needs to restart\n",
    "    if state.length < state.length_min:\n",
    "        state.restart_triggered = True\n",
    "        state.length = 0.5  # assumes x in [0, 1]\n",
    "        print(\"\\nTuRBO restart triggered\")\n",
    "    # update training data set\n",
    "    state.train_x = x_train\n",
    "    state.train_y = y_train\n",
    "    return state\n",
    "\n",
    "\n",
    "def turbo_region_bounds(model: ExactGP, x_center, length, dim):\n",
    "    \"\"\"Get the bounds for the turbo trust region\"\"\"\n",
    "    # scale the trust region to be proportional to the length scales\n",
    "    weights = model.covar_module.base_kernel.lengthscale.squeeze().detach()\n",
    "    weights = weights / weights.mean()\n",
    "    if dim > 1:\n",
    "        weights = weights / torch.prod(weights.pow(1.0 / len(weights)))\n",
    "    tr_lb = torch.clamp(x_center - weights * length / 2.0, 0.0, 1.0)\n",
    "    tr_ub = torch.clamp(x_center + weights * length / 2.0, 0.0, 1.0)\n",
    "    return tr_lb, tr_ub\n",
    "\n",
    "\n",
    "def turbo_thompson_sampling(state: NewTurboState, n_candidates, tr_lb, tr_ub, x_center, model, batch_size):\n",
    "    \"\"\"Convert candidates and trust region geometry to next sample point\"\"\"\n",
    "    # thompson sampling\n",
    "    dim = state.train_x.shape[-1]\n",
    "    sobol = SobolEngine(dim, scramble=True)\n",
    "    pert = sobol.draw(n_candidates).to(dtype=dtype, device=device)\n",
    "    pert = tr_lb + (tr_ub - tr_lb) * pert\n",
    "    # create perturbation mask\n",
    "    prob_perturb = min(20.0 / dim, 1.0)\n",
    "    mask = (\n",
    "            torch.rand(n_candidates, dim, dtype=dtype, device=device)\n",
    "            <= prob_perturb\n",
    "    )\n",
    "    ind = torch.where(mask.sum(dim=1) == 0)[0]\n",
    "    if dim == 1:\n",
    "        mask[ind, torch.randint(0, 1, size=(len(ind),), device=device)] = 1\n",
    "    else:\n",
    "        mask[ind, torch.randint(0, dim - 1, size=(len(ind),), device=device)] = 1\n",
    "    # create candidate points from the perturbations and the mask\n",
    "    x_cand = x_center.expand(n_candidates, dim).clone()\n",
    "    x_cand[mask] = pert[mask]\n",
    "\n",
    "    # sample the candidate points\n",
    "    thompson_sampling = MaxPosteriorSampling(model=model, replacement=False)\n",
    "    with torch.no_grad():\n",
    "        return thompson_sampling(x_cand, num_samples=batch_size)\n",
    "\n",
    "\n",
    "def generate_batch(state: NewTurboState,  # trust region state\n",
    "                   model: ExactGP,  # GP model\n",
    "                   dim,  # number of input dimensions\n",
    "                   x,  # evaluated points on [0,1] for each dimension\n",
    "                   y,  # evaluated function values corresponding to x\n",
    "                   batch_size,\n",
    "                   n_candidates=None,\n",
    "                   num_restarts=10,\n",
    "                   raw_samples=512,\n",
    "                   acqf='ts',  # 'ei' or 'ts'\n",
    "                   ):\n",
    "    \"\"\"Acquisition function for TuRBO, wraps Thompson sampling or Expected Improvement constrained to\n",
    "    trust region boundaries\"\"\"\n",
    "    assert acqf in (\"ts\", \"ei\")\n",
    "    assert x.min() >= 0.0 and x.max() <= 1.0 and torch.all(torch.isfinite(y))\n",
    "    if n_candidates is None:\n",
    "        n_candidates = min(5000, max(2000, 200 * x.shape[-1]))\n",
    "\n",
    "    # # scale the trust region to be proportional to the length scales\n",
    "    x_center = x[y.argmax(), :].clone()\n",
    "    tr_lb, tr_ub = turbo_region_bounds(model, x_center, state.length, dim=dim)\n",
    "\n",
    "    if acqf == 'ts':\n",
    "        x_next = turbo_thompson_sampling(state, n_candidates, tr_lb, tr_ub, x_center, model, batch_size)\n",
    "\n",
    "    elif acqf == 'ei':\n",
    "        ei = qExpectedImprovement(model, y.max(), maximize=True)\n",
    "        x_next, acq_value = optimize_acqf(\n",
    "            ei,\n",
    "            bounds=torch.stack([tr_lb, tr_ub]),\n",
    "            q=batch_size,\n",
    "            num_restarts=num_restarts,\n",
    "            raw_samples=raw_samples,\n",
    "        )\n",
    "\n",
    "    return x_next"
   ],
   "metadata": {
    "collapsed": false
   }
  },
  {
   "cell_type": "code",
   "execution_count": 47,
   "outputs": [],
   "source": [
    "# n-d test problem\n",
    "from botorch.models import SingleTaskGP\n",
    "from gpytorch.mlls import ExactMarginalLogLikelihood\n",
    "from botorch import fit_gpytorch_mll\n",
    "\n",
    "train_X = torch.rand(20, 3, dtype=dtype)\n",
    "train_Y = torch.sin(train_X).sum(dim=1, keepdim=True)\n",
    "model_example = SingleTaskGP(train_X, train_Y)\n",
    "mll_example = ExactMarginalLogLikelihood(model_example.likelihood, model_example)\n",
    "fitting = fit_gpytorch_mll(mll_example)"
   ],
   "metadata": {
    "collapsed": false
   }
  },
  {
   "cell_type": "code",
   "execution_count": 48,
   "outputs": [
    {
     "data": {
      "text/plain": "tensor(18)"
     },
     "execution_count": 48,
     "metadata": {},
     "output_type": "execute_result"
    }
   ],
   "source": [
    "train_Y.argmax()"
   ],
   "metadata": {
    "collapsed": false
   }
  },
  {
   "cell_type": "code",
   "execution_count": 49,
   "outputs": [
    {
     "name": "stdout",
     "output_type": "stream",
     "text": [
      "tensor([0.8058, 0.0661, 0.3534], dtype=torch.float64)\n",
      "tensor([1.0000, 0.3054, 0.6081], dtype=torch.float64)\n"
     ]
    }
   ],
   "source": [
    "test_lb, test_ub = turbo_region_bounds(model_example, train_X[5, :].clone(), 0.25, 2)\n",
    "print(test_lb)\n",
    "print(test_ub)"
   ],
   "metadata": {
    "collapsed": false
   }
  },
  {
   "cell_type": "code",
   "execution_count": 50,
   "outputs": [
    {
     "data": {
      "text/plain": "tensor([1.3371, 1.2474, 1.3278], dtype=torch.float64)"
     },
     "execution_count": 50,
     "metadata": {},
     "output_type": "execute_result"
    }
   ],
   "source": [
    "model_example.covar_module.base_kernel.lengthscale.squeeze().detach()"
   ],
   "metadata": {
    "collapsed": false
   }
  },
  {
   "cell_type": "code",
   "execution_count": 51,
   "outputs": [
    {
     "name": "stdout",
     "output_type": "stream",
     "text": [
      "tensor([0.8090, 0.0608, 0.3557], dtype=torch.float64)\n",
      "tensor([1.0000, 0.3108, 0.6057], dtype=torch.float64)\n"
     ]
    }
   ],
   "source": [
    "test_lb, test_ub = turbo_bounds_no_scaling(train_X[5, :].clone(), 0.25)\n",
    "print(test_lb)\n",
    "print(test_ub)"
   ],
   "metadata": {
    "collapsed": false
   }
  },
  {
   "cell_type": "code",
   "execution_count": 52,
   "outputs": [],
   "source": [
    "idx_below_ub = torch.where(train_X <= test_ub, True, False)\n",
    "idx_above_lb = torch.where(train_X >= test_lb, True, False)"
   ],
   "metadata": {
    "collapsed": false
   }
  },
  {
   "cell_type": "code",
   "execution_count": 53,
   "outputs": [],
   "source": [
    "idx_in_tr = idx_below_ub & idx_above_lb\n",
    "# get the training points to use that are in the trust region\n",
    "train_x_tr = train_X[torch.all(idx_in_tr, dim=1), :]\n",
    "train_y_tr = train_Y[torch.all(idx_in_tr, dim=1)]"
   ],
   "metadata": {
    "collapsed": false
   }
  },
  {
   "cell_type": "code",
   "execution_count": 61,
   "outputs": [
    {
     "data": {
      "text/plain": "1"
     },
     "execution_count": 61,
     "metadata": {},
     "output_type": "execute_result"
    }
   ],
   "source": [
    "train_x_tr.shape[0]"
   ],
   "metadata": {
    "collapsed": false
   }
  },
  {
   "cell_type": "code",
   "execution_count": 59,
   "outputs": [
    {
     "data": {
      "text/plain": "torch.Size([1, 1])"
     },
     "execution_count": 59,
     "metadata": {},
     "output_type": "execute_result"
    }
   ],
   "source": [
    "train_y_tr.shape"
   ],
   "metadata": {
    "collapsed": false
   }
  },
  {
   "cell_type": "code",
   "execution_count": null,
   "outputs": [],
   "source": [],
   "metadata": {
    "collapsed": false
   }
  },
  {
   "cell_type": "code",
   "execution_count": null,
   "outputs": [],
   "source": [],
   "metadata": {
    "collapsed": false
   }
  },
  {
   "cell_type": "code",
   "execution_count": 62,
   "outputs": [],
   "source": [
    "# test single iteration\n",
    "train_X = torch.rand(20, 2, dtype=dtype)\n",
    "train_Y = torch.sin(train_X).sum(dim=1, keepdim=True)\n",
    "model_example = SingleTaskGP(train_X, train_Y)\n",
    "mll_example = ExactMarginalLogLikelihood(model_example.likelihood, model_example)\n",
    "fitting = fit_gpytorch_mll(mll_example)"
   ],
   "metadata": {
    "collapsed": false
   }
  },
  {
   "cell_type": "code",
   "execution_count": 66,
   "outputs": [],
   "source": [
    "test_state = NewTurboState(dim=2, batch_size=1, center=train_X[train_Y.argmax(), :].clone())\n",
    "test_state = new_update_state(test_state, train_X, train_Y, train_Y.max())"
   ],
   "metadata": {
    "collapsed": false
   }
  },
  {
   "cell_type": "code",
   "execution_count": 68,
   "outputs": [],
   "source": [
    "N_CANDIDATES = min(5000, max(2000, 200 * train_X.shape[-1]))\n",
    "NUM_RESTARTS = 10\n",
    "RAW_SAMPLES = 512\n",
    "\n",
    "new_x_turbo = generate_batch(\n",
    "            state=test_state,\n",
    "            model=model_example,\n",
    "            dim=test_state.train_x.shape[-1],\n",
    "            x=test_state.train_x,\n",
    "            y=test_state.train_y,\n",
    "            batch_size=1,\n",
    "            n_candidates=N_CANDIDATES,\n",
    "            num_restarts=NUM_RESTARTS,\n",
    "            raw_samples=RAW_SAMPLES,\n",
    "            acqf='ts',\n",
    "        )"
   ],
   "metadata": {
    "collapsed": false
   }
  },
  {
   "cell_type": "code",
   "execution_count": 70,
   "outputs": [],
   "source": [
    "new_obj_turbo = torch.sin(new_x_turbo).sum(dim=1, keepdim=True)"
   ],
   "metadata": {
    "collapsed": false
   }
  },
  {
   "cell_type": "code",
   "execution_count": 71,
   "outputs": [],
   "source": [
    "train_x_turbo = torch.cat([train_X, new_x_turbo])\n",
    "train_obj_turbo = torch.cat([train_Y, new_obj_turbo])"
   ],
   "metadata": {
    "collapsed": false
   }
  },
  {
   "cell_type": "code",
   "execution_count": 72,
   "outputs": [],
   "source": [
    "test_state = new_update_state(test_state, x_train=train_x_turbo, y_train=train_obj_turbo, y_next=new_obj_turbo)"
   ],
   "metadata": {
    "collapsed": false
   }
  },
  {
   "cell_type": "code",
   "execution_count": 73,
   "outputs": [
    {
     "ename": "IndexError",
     "evalue": "The shape of the mask [21] at index 0 does not match the shape of the indexed tensor [20, 2] at index 0",
     "output_type": "error",
     "traceback": [
      "\u001B[1;31m---------------------------------------------------------------------------\u001B[0m",
      "\u001B[1;31mIndexError\u001B[0m                                Traceback (most recent call last)",
      "Cell \u001B[1;32mIn[73], line 1\u001B[0m\n\u001B[1;32m----> 1\u001B[0m tr_x_turbo, tr_obj_turbo \u001B[38;5;241m=\u001B[39m \u001B[43mtest_state\u001B[49m\u001B[38;5;241;43m.\u001B[39;49m\u001B[43mget_training_samples_in_region\u001B[49m\u001B[43m(\u001B[49m\u001B[43m)\u001B[49m\n",
      "Cell \u001B[1;32mIn[64], line 51\u001B[0m, in \u001B[0;36mNewTurboState.get_training_samples_in_region\u001B[1;34m(self)\u001B[0m\n\u001B[0;32m     47\u001B[0m idx_in_tr \u001B[38;5;241m=\u001B[39m idx_below_ub \u001B[38;5;241m&\u001B[39m idx_above_lb\n\u001B[0;32m     48\u001B[0m \u001B[38;5;66;03m# get the training points to use that are in the trust region\u001B[39;00m\n\u001B[0;32m     49\u001B[0m \u001B[38;5;66;03m# train_x_tr = self.train_x[idx_in_tr].unsqueeze(-1)\u001B[39;00m\n\u001B[0;32m     50\u001B[0m \u001B[38;5;66;03m# train_y_tr = self.train_y[idx_in_tr].unsqueeze(-1)\u001B[39;00m\n\u001B[1;32m---> 51\u001B[0m train_x_tr \u001B[38;5;241m=\u001B[39m \u001B[43mtrain_X\u001B[49m\u001B[43m[\u001B[49m\u001B[43mtorch\u001B[49m\u001B[38;5;241;43m.\u001B[39;49m\u001B[43mall\u001B[49m\u001B[43m(\u001B[49m\u001B[43midx_in_tr\u001B[49m\u001B[43m,\u001B[49m\u001B[43m \u001B[49m\u001B[43mdim\u001B[49m\u001B[38;5;241;43m=\u001B[39;49m\u001B[38;5;241;43m1\u001B[39;49m\u001B[43m)\u001B[49m\u001B[43m,\u001B[49m\u001B[43m \u001B[49m\u001B[43m:\u001B[49m\u001B[43m]\u001B[49m\n\u001B[0;32m     52\u001B[0m train_y_tr \u001B[38;5;241m=\u001B[39m train_Y[torch\u001B[38;5;241m.\u001B[39mall(idx_in_tr, dim\u001B[38;5;241m=\u001B[39m\u001B[38;5;241m1\u001B[39m)]\n\u001B[0;32m     53\u001B[0m \u001B[38;5;66;03m# return the training points to use\u001B[39;00m\n",
      "\u001B[1;31mIndexError\u001B[0m: The shape of the mask [21] at index 0 does not match the shape of the indexed tensor [20, 2] at index 0"
     ]
    }
   ],
   "source": [
    "tr_x_turbo, tr_obj_turbo = test_state.get_training_samples_in_region()"
   ],
   "metadata": {
    "collapsed": false
   }
  },
  {
   "cell_type": "code",
   "execution_count": null,
   "outputs": [],
   "source": [],
   "metadata": {
    "collapsed": false
   }
  }
 ],
 "metadata": {
  "kernelspec": {
   "display_name": "Python 3",
   "language": "python",
   "name": "python3"
  },
  "language_info": {
   "codemirror_mode": {
    "name": "ipython",
    "version": 2
   },
   "file_extension": ".py",
   "mimetype": "text/x-python",
   "name": "python",
   "nbconvert_exporter": "python",
   "pygments_lexer": "ipython2",
   "version": "2.7.6"
  }
 },
 "nbformat": 4,
 "nbformat_minor": 0
}
