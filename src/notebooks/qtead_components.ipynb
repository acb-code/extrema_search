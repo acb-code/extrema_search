{
 "cells": [
  {
   "cell_type": "code",
   "execution_count": 1,
   "id": "initial_id",
   "metadata": {
    "collapsed": true,
    "ExecuteTime": {
     "end_time": "2023-09-09T17:08:24.817532900Z",
     "start_time": "2023-09-09T17:08:24.801380Z"
    }
   },
   "outputs": [],
   "source": [
    "# nb to test out each component of qtead\n",
    "# Author: Alex Braafladt\n",
    "# Date: 9/9/23"
   ]
  },
  {
   "cell_type": "code",
   "execution_count": null,
   "outputs": [],
   "source": [
    "# Test case: localized extreme with noise and jump\n",
    "# Acq output loop:\n",
    "#   -model: SingleTaskGP\n",
    "# Acq inner loop:\n",
    "#   -sampler operating on posterior\n",
    "# qTEAD components:\n",
    "# 1. get gradients of surrogate model at input data locations\n",
    "# 2. ***get input X as 'batch_shape x q x d'-dim tensor (# t-batches for ...)\n",
    "# 3. nearest neighbors from each candidate to input data locations\n",
    "# 4. taylor expansion estimate for model mean at each candidate location\n",
    "# 5. use samples from model posterior wrt X in place of calling the mean(GP)\n",
    "# 6. linear algebra to combine varibles into J_tead scores\n",
    "# 7. average across MC dimension of resulting tensor\n",
    "\n",
    "\n",
    "# need to define posterior sampling dim which is averaged over, and (t-batch??)\n",
    "# dim which is the set of candidates of acq locations?? or how does this work with BFGS line search???"
   ],
   "metadata": {
    "collapsed": false
   },
   "id": "5bbf1b890875ba9f"
  }
 ],
 "metadata": {
  "kernelspec": {
   "display_name": "Python 3",
   "language": "python",
   "name": "python3"
  },
  "language_info": {
   "codemirror_mode": {
    "name": "ipython",
    "version": 2
   },
   "file_extension": ".py",
   "mimetype": "text/x-python",
   "name": "python",
   "nbconvert_exporter": "python",
   "pygments_lexer": "ipython2",
   "version": "2.7.6"
  }
 },
 "nbformat": 4,
 "nbformat_minor": 5
}
