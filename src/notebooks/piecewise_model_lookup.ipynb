{
 "cells": [
  {
   "cell_type": "code",
   "execution_count": null,
   "metadata": {
    "collapsed": true
   },
   "outputs": [],
   "source": []
  },
  {
   "cell_type": "code",
   "execution_count": null,
   "outputs": [],
   "source": [],
   "metadata": {
    "collapsed": false
   }
  },
  {
   "cell_type": "code",
   "execution_count": null,
   "outputs": [],
   "source": [
    "\n",
    "x = 1.0\n",
    "\n",
    "graph_leaves = [n for n in graph if graph.out_degree[n] == 0]\n",
    "for n in graph_leaves:\n",
    "    # get current leaf node\n",
    "    current_node = graph.nodes()[n]\n",
    "    current_state = current_node['data']\n",
    "    current_bounds = current_state.local_bounds\n",
    "    # save the lowest node index and highest node index for edge cases\n",
    "    if current_bounds[0] <= 0.001 and current_bounds[1] >= 0.99:\n",
    "        low_node = n\n",
    "        high_node = n\n",
    "    elif current_bounds[0] <= 0.001:\n",
    "        low_node = n\n",
    "    elif current_bounds[1] >= 0.99:\n",
    "        high_node = n\n",
    "    # check if current node is the right one to use for model\n",
    "    if current_bounds[0] <= x < current_bounds[1]:\n",
    "        return current_state.local_model\n",
    "\n",
    "# handle slightly off bound queries\n",
    "if x < 0.0:\n",
    "    # if a prediction lower than 0.0 needed\n",
    "    return graph.nodes()[low_node]['data'].local_model\n",
    "elif x >= 1.0:\n",
    "    # if a prediction higher than 1.0 needed\n",
    "    return graph.nodes()[high_node]['data'].local_model"
   ],
   "metadata": {
    "collapsed": false
   }
  }
 ],
 "metadata": {
  "kernelspec": {
   "display_name": "Python 3",
   "language": "python",
   "name": "python3"
  },
  "language_info": {
   "codemirror_mode": {
    "name": "ipython",
    "version": 2
   },
   "file_extension": ".py",
   "mimetype": "text/x-python",
   "name": "python",
   "nbconvert_exporter": "python",
   "pygments_lexer": "ipython2",
   "version": "2.7.6"
  }
 },
 "nbformat": 4,
 "nbformat_minor": 0
}
