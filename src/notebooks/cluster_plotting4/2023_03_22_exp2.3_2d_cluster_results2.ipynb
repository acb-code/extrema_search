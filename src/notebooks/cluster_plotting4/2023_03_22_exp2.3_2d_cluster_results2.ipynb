{
 "cells": [
  {
   "cell_type": "code",
   "execution_count": 1,
   "metadata": {
    "collapsed": true
   },
   "outputs": [],
   "source": [
    "# this notebook summarizes the results across the 2-dimensional canonical problem case\n",
    "# Cases:\n",
    "#   1. Stochastic, Discontinuity Multimodal Localized Extrema\n",
    "#\n",
    "# Author: Alex Braafladt\n",
    "# Date created: 3/22/23\n",
    "#\n",
    "# References:\n",
    "# [1]"
   ]
  },
  {
   "cell_type": "code",
   "execution_count": 2,
   "outputs": [],
   "source": [
    "import matplotlib.pyplot as plt\n",
    "import seaborn as sns\n",
    "import numpy as np\n",
    "import torch\n",
    "import pandas as pd\n",
    "import pickle"
   ],
   "metadata": {
    "collapsed": false
   }
  },
  {
   "cell_type": "code",
   "execution_count": 3,
   "outputs": [
    {
     "data": {
      "text/plain": "[['MCS', 'NEI', 'TEAD', 'TuRBO', 'QMC'],\n [0.0, 0.0, 0.5, 0.0, 0.0],\n [[0, 0], [0, 0], [2, 1], [0, 0], [0, 0]],\n [0, 0, 0, 0, 0],\n 2,\n [0.0, 0.0, 0.0, 0.0, 0.0],\n [[400, 400], [400, 400], [400, 400], [400, 400], [400, 400]]]"
     },
     "execution_count": 3,
     "metadata": {},
     "output_type": "execute_result"
    }
   ],
   "source": [
    "bench2 = torch.load('2d_bench_mme_metrics_v220230322091241.pt')\n",
    "bench2"
   ],
   "metadata": {
    "collapsed": false
   }
  },
  {
   "cell_type": "code",
   "execution_count": 4,
   "outputs": [
    {
     "data": {
      "text/plain": "[['MCS', 'NEI', 'TEAD', 'TuRBO', 'QMC'],\n [0.16666666666666666, 0.0, 0.3333333333333333, 0.0, 0.0],\n [[1, 0], [0, 0], [1, 1], [0, 0], [0, 0]],\n [0, 0, 0, 0, 0],\n 2,\n [0.0, 0.0, 0.0, 0.0, 0.0],\n [[400, 400], [400, 400], [400, 400], [400, 400], [400, 400]]]"
     },
     "execution_count": 4,
     "metadata": {},
     "output_type": "execute_result"
    }
   ],
   "source": [
    "bench3 = torch.load('2d_bench_mme_metrics_v220230322091525.pt')\n",
    "bench3"
   ],
   "metadata": {
    "collapsed": false
   }
  },
  {
   "cell_type": "code",
   "execution_count": 5,
   "outputs": [
    {
     "data": {
      "text/plain": "[['MCS', 'NEI', 'TEAD', 'TuRBO', 'QMC'],\n [0.0, 0.0, 0.3333333333333333, 0.0, 0.0],\n [[0, 0], [0, 0], [0, 2], [0, 0], [0, 0]],\n [0, 0, 0, 0, 0],\n 2,\n [0.0, 0.0, 0.0, 0.0, 0.0],\n [[400, 400], [400, 400], [400, 400], [400, 400], [400, 400]]]"
     },
     "execution_count": 5,
     "metadata": {},
     "output_type": "execute_result"
    }
   ],
   "source": [
    "bench4 = torch.load('2d_bench_mme_metrics_v220230322091645.pt')\n",
    "bench4"
   ],
   "metadata": {
    "collapsed": false
   }
  },
  {
   "cell_type": "code",
   "execution_count": 6,
   "outputs": [
    {
     "data": {
      "text/plain": "[['MCS', 'NEI', 'TEAD', 'TuRBO', 'QMC'],\n [0.0, 0.0, 0.3333333333333333, 0.3333333333333333, 0.0],\n [[0, 0], [0, 0], [1, 1], [1, 1], [0, 0]],\n [0, 0, 0, 0, 0],\n 2,\n [0.0, 0.0, 0.0, 0.0, 0.0],\n [[400, 400], [400, 400], [400, 400], [400, 400], [400, 400]]]"
     },
     "execution_count": 6,
     "metadata": {},
     "output_type": "execute_result"
    }
   ],
   "source": [
    "bench5 = torch.load('2d_bench_mme_metrics_v220230322091802.pt')\n",
    "bench5"
   ],
   "metadata": {
    "collapsed": false
   }
  },
  {
   "cell_type": "code",
   "execution_count": 7,
   "outputs": [
    {
     "data": {
      "text/plain": "[['MCS', 'NEI', 'TEAD', 'TuRBO', 'QMC'],\n [0.0, 0.0, 0.5, 0.0, 0.0],\n [[0, 0], [0, 0], [1, 2], [0, 0], [0, 0]],\n [0, 0, 0, 0, 0],\n 2,\n [0.0, 0.0, 0.0, 0.0, 0.0],\n [[400, 400], [400, 400], [400, 400], [400, 400], [400, 400]]]"
     },
     "execution_count": 7,
     "metadata": {},
     "output_type": "execute_result"
    }
   ],
   "source": [
    "bench6 = torch.load('2d_bench_mme_metrics_v220230322092431.pt')\n",
    "bench6"
   ],
   "metadata": {
    "collapsed": false
   }
  },
  {
   "cell_type": "code",
   "execution_count": 8,
   "outputs": [
    {
     "data": {
      "text/plain": "[['MCS', 'NEI', 'TEAD', 'TuRBO', 'QMC'],\n [0.0, 0.0, 0.3333333333333333, 0.0, 0.0],\n [[0, 0], [0, 0], [1, 1], [0, 0], [0, 0]],\n [0, 0, 0, 0, 0],\n 2,\n [0.0, 0.0, 0.0, 0.0, 0.0],\n [[400, 400], [400, 400], [400, 400], [400, 400], [400, 400]]]"
     },
     "execution_count": 8,
     "metadata": {},
     "output_type": "execute_result"
    }
   ],
   "source": [
    "bench7 = torch.load('2d_bench_mme_metrics_v220230322092554.pt')\n",
    "bench7"
   ],
   "metadata": {
    "collapsed": false
   }
  },
  {
   "cell_type": "code",
   "execution_count": 9,
   "outputs": [
    {
     "data": {
      "text/plain": "[['MCS', 'NEI', 'TEAD', 'TuRBO', 'QMC'],\n [0.16666666666666666, 0.0, 0.16666666666666666, 0.0, 0.0],\n [[1, 0], [0, 0], [0, 1], [0, 0], [0, 0]],\n [0, 0, 0, 0, 0],\n 2,\n [0.0, 0.0, 0.0, 0.0, 0.0],\n [[400, 400], [400, 400], [400, 400], [400, 400], [400, 400]]]"
     },
     "execution_count": 9,
     "metadata": {},
     "output_type": "execute_result"
    }
   ],
   "source": [
    "bench8 = torch.load('2d_bench_mme_metrics_v220230322092241.pt')\n",
    "bench8"
   ],
   "metadata": {
    "collapsed": false
   }
  },
  {
   "cell_type": "code",
   "execution_count": 10,
   "outputs": [
    {
     "data": {
      "text/plain": "[['MCS', 'NEI', 'TEAD', 'TuRBO', 'QMC'],\n [0.0, 0.0, 0.16666666666666666, 0.0, 0.0],\n [[0, 0], [0, 0], [0, 1], [0, 0], [0, 0]],\n [0, 0, 0, 0, 0],\n 2,\n [0.0, 0.0, 0.0, 0.0, 0.0],\n [[400, 400], [400, 400], [400, 400], [400, 400], [400, 400]]]"
     },
     "execution_count": 10,
     "metadata": {},
     "output_type": "execute_result"
    }
   ],
   "source": [
    "bench1 = torch.load(r'C:\\Users\\alexb\\Documents\\GitHub\\extrema_search\\src\\notebooks\\cluster_plotting3\\2d_bench_mme_metrics_v220230321221612.pt')\n",
    "bench1"
   ],
   "metadata": {
    "collapsed": false
   }
  },
  {
   "cell_type": "code",
   "execution_count": 11,
   "outputs": [
    {
     "data": {
      "text/plain": "[['PIONEER'],\n [0.16666666666666666],\n [[0, 0, 2, 0, 0, 1, 0, 1]],\n [0],\n 8,\n [0.0],\n [[401, 401, 401, 401, 401, 401, 401, 401]]]"
     },
     "execution_count": 11,
     "metadata": {},
     "output_type": "execute_result"
    }
   ],
   "source": [
    "pioneer2 = torch.load(r'C:\\Users\\alexb\\Documents\\GitHub\\extrema_search\\src\\notebooks\\cluster_plotting3\\2d_pioneer_mme_metrics_v220230321221603.pt')\n",
    "pioneer2"
   ],
   "metadata": {
    "collapsed": false
   }
  },
  {
   "cell_type": "code",
   "execution_count": 12,
   "outputs": [
    {
     "data": {
      "text/plain": "[['PIONEER'],\n [0.08333333333333333],\n [[0, 0, 1, 0, 0, 1, 0, 0]],\n [0],\n 8,\n [0.0],\n [[401, 401, 401, 401, 401, 401, 401, 401]]]"
     },
     "execution_count": 12,
     "metadata": {},
     "output_type": "execute_result"
    }
   ],
   "source": [
    "pioneer3 = torch.load(r'2d_pioneer_mme_metrics_v220230322091145.pt')\n",
    "pioneer3"
   ],
   "metadata": {
    "collapsed": false
   }
  },
  {
   "cell_type": "code",
   "execution_count": 24,
   "outputs": [
    {
     "name": "stdout",
     "output_type": "stream",
     "text": [
      "Peak ratio: Random 0.04, NEI 0.00, TEAD 0.33, TuRBO 0.04, QMC 0.04 \n",
      "Success ratio: Random 0.00, NEI 0.00, TEAD 0.00, TuRBO 0.00, Sobol 0.00\n"
     ]
    }
   ],
   "source": [
    "# combine data\n",
    "\n",
    "# number of distinct peaks observed\n",
    "n_peaks_random = sum(bench1[2][0]) + sum(bench2[2][0]) + sum(bench3[2][0]) + sum(bench4[2][0]) +\\\n",
    "                 sum(bench5[2][0]) + sum(bench6[2][0]) + sum(bench7[2][0]) + sum(bench8[2][0])\n",
    "n_peaks_nei = sum(bench1[2][1]) + sum(bench2[2][1]) + sum(bench3[2][1]) + sum(bench4[2][1]) +\\\n",
    "              sum(bench5[2][1]) + sum(bench6[2][1]) + sum(bench7[2][1]) + sum(bench8[2][1])\n",
    "n_peaks_tead = sum(bench1[2][2]) + sum(bench2[2][2]) + sum(bench3[2][2]) + sum(bench4[2][2]) +\\\n",
    "               sum(bench5[2][2]) + sum(bench6[2][2]) + sum(bench7[2][2]) + sum(bench8[2][2])\n",
    "n_peaks_turbo = sum(bench1[2][3]) + sum(bench2[2][3]) + sum(bench3[2][3]) + sum(bench4[2][3]) +\\\n",
    "                sum(bench5[2][3]) + sum(bench6[2][3]) + sum(bench7[2][3]) + sum(bench8[2][3])\n",
    "n_peaks_sobol = sum(bench1[2][0]) + sum(bench2[2][0]) + sum(bench3[2][0]) + sum(bench4[2][0]) +\\\n",
    "                sum(bench5[2][0]) + sum(bench6[2][0]) + sum(bench7[2][0]) + sum(bench8[2][0])\n",
    "# peak ratio\n",
    "num_known_peaks = 3\n",
    "num_trials = 16\n",
    "peak_ratio_random = n_peaks_random / (num_known_peaks * num_trials)\n",
    "peak_ratio_nei = n_peaks_nei / (num_known_peaks * num_trials)\n",
    "peak_ratio_tead = n_peaks_tead / (num_known_peaks * num_trials)\n",
    "peak_ratio_turbo = n_peaks_turbo / (num_known_peaks * num_trials)\n",
    "peak_ratio_sobol = n_peaks_sobol / (num_known_peaks * num_trials)\n",
    "print(f\"Peak ratio: Random {peak_ratio_random:>4.2f}, NEI {peak_ratio_nei:>4.2f}, TEAD {peak_ratio_tead:>4.2f}, TuRBO {peak_ratio_turbo:>4.2f}, QMC {peak_ratio_sobol:>4.2f} \")\n",
    "\n",
    "num_successes_random = bench1[3][0] + bench2[3][0] + bench3[3][0] + bench4[3][0] +\\\n",
    "                       bench5[3][0] + bench6[3][0] + bench7[3][0] + bench8[3][0]\n",
    "num_successes_nei = bench1[3][1] + bench2[3][1] + bench3[3][1] + bench4[3][1] +\\\n",
    "                       bench5[3][1] + bench6[3][1] + bench7[3][1] + bench8[3][1]\n",
    "num_successes_tead = bench1[3][2] + bench2[3][2] + bench3[3][2] + bench4[3][2] +\\\n",
    "                       bench5[3][2] + bench6[3][2] + bench7[3][2] + bench8[3][2]\n",
    "num_successes_turbo = bench1[3][3] + bench2[3][3] + bench3[3][3] + bench4[3][3] +\\\n",
    "                       bench5[3][3] + bench6[3][3] + bench7[3][3] + bench8[3][3]\n",
    "num_successes_sobol = bench1[3][4] + bench2[3][4] + bench3[3][4] + bench4[3][4] +\\\n",
    "                       bench5[3][4] + bench6[3][4] + bench7[3][4] + bench8[3][4]\n",
    "success_ratio_random = num_successes_random / num_trials\n",
    "success_ratio_nei = num_successes_nei / num_trials\n",
    "success_ratio_tead = num_successes_tead / num_trials\n",
    "success_ratio_turbo = num_successes_turbo / num_trials\n",
    "success_ratio_sobol = num_successes_sobol / num_trials\n",
    "print(f\"Success ratio: Random {success_ratio_random:>4.2f}, NEI {success_ratio_nei:>4.2f}, TEAD {success_ratio_tead:>4.2f}, TuRBO {success_ratio_turbo:>4.2f}, Sobol {success_ratio_sobol:>4.2f}\")\n"
   ],
   "metadata": {
    "collapsed": false
   }
  },
  {
   "cell_type": "code",
   "execution_count": 26,
   "outputs": [
    {
     "name": "stdout",
     "output_type": "stream",
     "text": [
      "Peak ratio: PIONEER 0.12 \n",
      "Success ratio: PIONEER 0.00\n"
     ]
    }
   ],
   "source": [
    "# combine data\n",
    "\n",
    "# number of distinct peaks observed\n",
    "n_peaks_pioneer = sum(pioneer2[2][0]) + sum(pioneer3[2][0])\n",
    "# peak ratio\n",
    "num_known_peaks = 3\n",
    "num_trials = 16\n",
    "peak_ratio_pioneer = n_peaks_pioneer / (num_known_peaks * num_trials)\n",
    "\n",
    "print(f\"Peak ratio: PIONEER {peak_ratio_pioneer:>4.2f} \")\n",
    "\n",
    "num_successes_pioneer = pioneer2[3][0] + pioneer3[3][0]\n",
    "success_ratio_pioneer = num_successes_pioneer / num_trials\n",
    "\n",
    "print(f\"Success ratio: PIONEER {success_ratio_pioneer:>4.2f}\")\n"
   ],
   "metadata": {
    "collapsed": false
   }
  },
  {
   "cell_type": "code",
   "execution_count": null,
   "outputs": [],
   "source": [],
   "metadata": {
    "collapsed": false
   }
  },
  {
   "cell_type": "code",
   "execution_count": null,
   "outputs": [],
   "source": [],
   "metadata": {
    "collapsed": false
   }
  }
 ],
 "metadata": {
  "kernelspec": {
   "display_name": "Python 3",
   "language": "python",
   "name": "python3"
  },
  "language_info": {
   "codemirror_mode": {
    "name": "ipython",
    "version": 2
   },
   "file_extension": ".py",
   "mimetype": "text/x-python",
   "name": "python",
   "nbconvert_exporter": "python",
   "pygments_lexer": "ipython2",
   "version": "2.7.6"
  }
 },
 "nbformat": 4,
 "nbformat_minor": 0
}
